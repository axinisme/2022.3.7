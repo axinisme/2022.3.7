{
 "cells": [
  {
   "cell_type": "code",
   "execution_count": 1,
   "metadata": {
    "collapsed": true
   },
   "outputs": [],
   "source": [
    "import tensorflow as tf"
   ]
  },
  {
   "cell_type": "code",
   "execution_count": 2,
   "outputs": [],
   "source": [
    "ylist = []\n",
    "y1 = tf.ones([3, 3])\n",
    "ylist.append(y1)\n",
    "y2 = tf.ones([3, 3])\n",
    "ylist.append(y2)\n",
    "y3 = tf.ones([3, 3])\n",
    "ylist.append(y3)"
   ],
   "metadata": {
    "collapsed": false,
    "pycharm": {
     "name": "#%%\n"
    }
   }
  },
  {
   "cell_type": "code",
   "execution_count": 3,
   "outputs": [
    {
     "data": {
      "text/plain": "[<tf.Tensor: shape=(3, 3), dtype=float32, numpy=\n array([[1., 1., 1.],\n        [1., 1., 1.],\n        [1., 1., 1.]], dtype=float32)>,\n <tf.Tensor: shape=(3, 3), dtype=float32, numpy=\n array([[1., 1., 1.],\n        [1., 1., 1.],\n        [1., 1., 1.]], dtype=float32)>,\n <tf.Tensor: shape=(3, 3), dtype=float32, numpy=\n array([[1., 1., 1.],\n        [1., 1., 1.],\n        [1., 1., 1.]], dtype=float32)>]"
     },
     "execution_count": 3,
     "metadata": {},
     "output_type": "execute_result"
    }
   ],
   "source": [
    "ylist"
   ],
   "metadata": {
    "collapsed": false,
    "pycharm": {
     "name": "#%%\n"
    }
   }
  },
  {
   "cell_type": "code",
   "execution_count": 4,
   "outputs": [
    {
     "data": {
      "text/plain": "<tf.Tensor: shape=(3, 3), dtype=float32, numpy=\narray([[3., 3., 3.],\n       [3., 3., 3.],\n       [3., 3., 3.]], dtype=float32)>"
     },
     "execution_count": 4,
     "metadata": {},
     "output_type": "execute_result"
    }
   ],
   "source": [
    "tf.add_n(ylist)"
   ],
   "metadata": {
    "collapsed": false,
    "pycharm": {
     "name": "#%%\n"
    }
   }
  },
  {
   "cell_type": "code",
   "execution_count": null,
   "outputs": [],
   "source": [],
   "metadata": {
    "collapsed": false,
    "pycharm": {
     "name": "#%%\n"
    }
   }
  }
 ],
 "metadata": {
  "kernelspec": {
   "display_name": "Python 3",
   "language": "python",
   "name": "python3"
  },
  "language_info": {
   "codemirror_mode": {
    "name": "ipython",
    "version": 2
   },
   "file_extension": ".py",
   "mimetype": "text/x-python",
   "name": "python",
   "nbconvert_exporter": "python",
   "pygments_lexer": "ipython2",
   "version": "2.7.6"
  }
 },
 "nbformat": 4,
 "nbformat_minor": 0
}